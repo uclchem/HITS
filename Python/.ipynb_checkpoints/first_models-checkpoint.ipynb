{
 "cells": [
  {
   "cell_type": "markdown",
   "metadata": {},
   "source": [
    "# Running Your First Models\n",
    "\n",
    "A Jupyter notebook in the `Python/` demonstrates how to use the Python UCLCHEM module. This page was automatically generated from that notebook.\n",
    "\n",
    "In this example, we'll run three UCLCHEM models using the cloud model and the python wrapper. We'll also use the python module to plot the results.\n",
    "\n",
    "Note, we ran this from the `Python/` directory meaning `Python/uclchem/` was in our PATH. You can run scripts elsewhere but `Python/uclchem/` must either be copied to that location or added to your PYTHON_PATH environmental variable."
   ]
  },
  {
   "cell_type": "code",
   "execution_count": 1,
   "metadata": {},
   "outputs": [],
   "source": [
    "import uclchem\n",
    "import pandas as pd\n",
    "import matplotlib.pyplot as plt"
   ]
  },
  {
   "cell_type": "markdown",
   "metadata": {},
   "source": [
    "# Phase 1\n",
    "\n",
    "It's typical when running UCLCHEM to run the model in two phases. If, for example, one wishes to model a hot core, the gas should be well processed by the time the protostar \"turns on\". This could be achieved by initializing the abundances to some known values for a prestellar core but instead we do the following:\n",
    "\n",
    "- Run a model starting from some very diffuse, atomic gas\n",
    "- Allow it to collapse in freefall to the density of the object we wish to model\n",
    "- Store the abundances as the initial abundances for the hot core model\n",
    "\n",
    "UCLCHEM is set up to do this through the ```phase``` parameter. All physics modules will model a homogenous cloud that can collapse under freefall when ```phase=1``` and then they do their specific physical model when ```phase=2```"
   ]
  },
  {
   "cell_type": "code",
   "execution_count": 2,
   "metadata": {},
   "outputs": [
    {
     "data": {
      "text/plain": [
       "0"
      ]
     },
     "execution_count": 2,
     "metadata": {},
     "output_type": "execute_result"
    }
   ],
   "source": [
    "#set a parameter dictionary for phase 1 collapse model\n",
    "\n",
    "outSpecies=\"SO CO\"\n",
    "param_dict = {\"phase\": 1, \"switch\": 1, \"collapse\": 1, \"readAbunds\": 0, \"writeStep\": 1,\n",
    "               \"outSpecies\": outSpecies, \"initialDens\": 1e2, \"initialTemp\":10.0,\n",
    "               \"finalDens\":1e5, \"finalTime\":5.0e6,\n",
    "               \"outputFile\":\"../output/phase1-full.dat\",\n",
    "               \"abundFile\":\"../output/startcollapse.dat\"}\n",
    "uclchem.run_model(param_dict)\n"
   ]
  },
  {
   "cell_type": "markdown",
   "metadata": {},
   "source": [
    "We can look at the output for that model by using pandas to read the file (skipping 2 rows to miss the header) and matplotlib to view abundances."
   ]
  },
  {
   "cell_type": "code",
   "execution_count": 3,
   "metadata": {},
   "outputs": [],
   "source": [
    "phase1_df=uclchem.read_output_file(\"../output/phase1-full.dat\")\n"
   ]
  },
  {
   "cell_type": "code",
   "execution_count": 4,
   "metadata": {},
   "outputs": [
    {
     "name": "stdout",
     "output_type": "stream",
     "text": [
      "CO\n",
      "H2O\n",
      "NH3\n"
     ]
    },
    {
     "data": {
      "image/png": "[encoded data removed]",
      "text/plain": [
       "<Figure size 432x288 with 1 Axes>"
      ]
     },
     "metadata": {
      "needs_background": "light"
     },
     "output_type": "display_data"
    }
   ],
   "source": [
    "species=[\"CO\",\"H2O\",\"NH3\"]\n",
    "fig,ax=uclchem.create_abundance_plot(phase1_df,species)\n",
    "ax=ax.set(xscale=\"log\")"
   ]
  },
  {
   "cell_type": "markdown",
   "metadata": {},
   "source": [
    "# Phase 2\n",
    "\n",
    "Note the ```abundFile``` and ```readAbunds``` parameters in our phase 1 model. If ```readAbunds``` is set to 0 then the abundances at the end of the model are written to ```abundFile```. If, instead, ```readAbunds``` is set to 1, the initial abundances are read from that file. Thus by switching ```readAbunds``` over, we can run phase 2 starting from the final abundances of the previous model."
   ]
  },
  {
   "cell_type": "code",
   "execution_count": 5,
   "metadata": {},
   "outputs": [
    {
     "data": {
      "text/plain": [
       "0"
      ]
     },
     "execution_count": 5,
     "metadata": {},
     "output_type": "execute_result"
    }
   ],
   "source": [
    "#read old abundances and do hot core behaviour\n",
    "param_dict[\"readAbunds\"]=1\n",
    "param_dict[\"phase\"]=2\n",
    "\n",
    "#change other bits of input to set up phase 2\n",
    "param_dict[\"initialDens\"]=1e5\n",
    "param_dict[\"tempindx\"]=3 #selects mass of protostar (see cloud.f90)\n",
    "param_dict[\"finalTime\"]=1e6\n",
    "param_dict[\"switch\"]=0\n",
    "param_dict[\"abundFile\"]=\"../output/startcollapse.dat\"\n",
    "param_dict[\"outputFile\"]=\"../output/phase2-full.dat\"\n",
    "\n",
    "\n",
    "uclchem.run_model(param_dict)"
   ]
  },
  {
   "cell_type": "code",
   "execution_count": 6,
   "metadata": {},
   "outputs": [],
   "source": [
    "phase2_df=pd.read_csv(\"../output/phase2-full.dat\",skiprows=2)\n",
    "phase2_df.columns=phase2_df.columns.str.strip()"
   ]
  },
  {
   "cell_type": "code",
   "execution_count": 7,
   "metadata": {},
   "outputs": [
    {
     "data": {
      "text/html": [
       "<div>\n",
       "<style scoped>\n",
       "    .dataframe tbody tr th:only-of-type {\n",
       "        vertical-align: middle;\n",
       "    }\n",
       "\n",
       "    .dataframe tbody tr th {\n",
       "        vertical-align: top;\n",
       "    }\n",
       "\n",
       "    .dataframe thead th {\n",
       "        text-align: right;\n",
       "    }\n",
       "</style>\n",
       "<table border=\"1\" class=\"dataframe\">\n",
       "  <thead>\n",
       "    <tr style=\"text-align: right;\">\n",
       "      <th></th>\n",
       "      <th>Time</th>\n",
       "      <th>Density</th>\n",
       "      <th>gasTemp</th>\n",
       "      <th>av</th>\n",
       "      <th>point</th>\n",
       "      <th>H</th>\n",
       "      <th>#H</th>\n",
       "      <th>H+</th>\n",
       "      <th>@H</th>\n",
       "      <th>H2</th>\n",
       "      <th>...</th>\n",
       "      <th>HS2</th>\n",
       "      <th>HS2+</th>\n",
       "      <th>HSO2+</th>\n",
       "      <th>H2S2+</th>\n",
       "      <th>H2S2</th>\n",
       "      <th>#H2S2</th>\n",
       "      <th>@H2S2</th>\n",
       "      <th>BULK</th>\n",
       "      <th>SURFACE</th>\n",
       "      <th>E-</th>\n",
       "    </tr>\n",
       "  </thead>\n",
       "  <tbody>\n",
       "    <tr>\n",
       "      <th>0</th>\n",
       "      <td>1.000000e-07</td>\n",
       "      <td>100100.0</td>\n",
       "      <td>10.0</td>\n",
       "      <td>11.653</td>\n",
       "      <td>1</td>\n",
       "      <td>0.000002</td>\n",
       "      <td>3.810610e-13</td>\n",
       "      <td>3.038960e-10</td>\n",
       "      <td>8.488980e-09</td>\n",
       "      <td>0.40273</td>\n",
       "      <td>...</td>\n",
       "      <td>2.944020e-13</td>\n",
       "      <td>5.069250e-16</td>\n",
       "      <td>3.635730e-14</td>\n",
       "      <td>1.936960e-16</td>\n",
       "      <td>2.345410e-15</td>\n",
       "      <td>3.350170e-17</td>\n",
       "      <td>7.095480e-12</td>\n",
       "      <td>0.097516</td>\n",
       "      <td>0.000005</td>\n",
       "      <td>6.090770e-08</td>\n",
       "    </tr>\n",
       "    <tr>\n",
       "      <th>1</th>\n",
       "      <td>1.000000e-06</td>\n",
       "      <td>100100.0</td>\n",
       "      <td>10.0</td>\n",
       "      <td>11.653</td>\n",
       "      <td>1</td>\n",
       "      <td>0.000002</td>\n",
       "      <td>3.810610e-13</td>\n",
       "      <td>3.038960e-10</td>\n",
       "      <td>8.488980e-09</td>\n",
       "      <td>0.40273</td>\n",
       "      <td>...</td>\n",
       "      <td>2.944020e-13</td>\n",
       "      <td>5.069250e-16</td>\n",
       "      <td>3.635730e-14</td>\n",
       "      <td>1.936960e-16</td>\n",
       "      <td>2.345410e-15</td>\n",
       "      <td>3.350170e-17</td>\n",
       "      <td>7.095480e-12</td>\n",
       "      <td>0.097516</td>\n",
       "      <td>0.000005</td>\n",
       "      <td>6.090770e-08</td>\n",
       "    </tr>\n",
       "    <tr>\n",
       "      <th>2</th>\n",
       "      <td>1.000000e-05</td>\n",
       "      <td>100100.0</td>\n",
       "      <td>10.0</td>\n",
       "      <td>11.653</td>\n",
       "      <td>1</td>\n",
       "      <td>0.000002</td>\n",
       "      <td>3.810630e-13</td>\n",
       "      <td>3.038960e-10</td>\n",
       "      <td>8.488980e-09</td>\n",
       "      <td>0.40273</td>\n",
       "      <td>...</td>\n",
       "      <td>2.944020e-13</td>\n",
       "      <td>5.069250e-16</td>\n",
       "      <td>3.635730e-14</td>\n",
       "      <td>1.936960e-16</td>\n",
       "      <td>2.345410e-15</td>\n",
       "      <td>3.350170e-17</td>\n",
       "      <td>7.095480e-12</td>\n",
       "      <td>0.097516</td>\n",
       "      <td>0.000005</td>\n",
       "      <td>6.090770e-08</td>\n",
       "    </tr>\n",
       "    <tr>\n",
       "      <th>3</th>\n",
       "      <td>1.000000e-04</td>\n",
       "      <td>100100.0</td>\n",
       "      <td>10.0</td>\n",
       "      <td>11.653</td>\n",
       "      <td>1</td>\n",
       "      <td>0.000002</td>\n",
       "      <td>3.810830e-13</td>\n",
       "      <td>3.038960e-10</td>\n",
       "      <td>8.488980e-09</td>\n",
       "      <td>0.40273</td>\n",
       "      <td>...</td>\n",
       "      <td>2.944020e-13</td>\n",
       "      <td>5.069250e-16</td>\n",
       "      <td>3.635730e-14</td>\n",
       "      <td>1.936960e-16</td>\n",
       "      <td>2.345410e-15</td>\n",
       "      <td>3.350170e-17</td>\n",
       "      <td>7.095480e-12</td>\n",
       "      <td>0.097516</td>\n",
       "      <td>0.000005</td>\n",
       "      <td>6.090770e-08</td>\n",
       "    </tr>\n",
       "    <tr>\n",
       "      <th>4</th>\n",
       "      <td>1.000000e-03</td>\n",
       "      <td>100100.0</td>\n",
       "      <td>10.0</td>\n",
       "      <td>11.653</td>\n",
       "      <td>1</td>\n",
       "      <td>0.000002</td>\n",
       "      <td>3.812300e-13</td>\n",
       "      <td>3.038960e-10</td>\n",
       "      <td>8.488980e-09</td>\n",
       "      <td>0.40273</td>\n",
       "      <td>...</td>\n",
       "      <td>2.944020e-13</td>\n",
       "      <td>5.069250e-16</td>\n",
       "      <td>3.635730e-14</td>\n",
       "      <td>1.936960e-16</td>\n",
       "      <td>2.345410e-15</td>\n",
       "      <td>3.350150e-17</td>\n",
       "      <td>7.095480e-12</td>\n",
       "      <td>0.097516</td>\n",
       "      <td>0.000005</td>\n",
       "      <td>6.090770e-08</td>\n",
       "    </tr>\n",
       "  </tbody>\n",
       "</table>\n",
       "<p>5 rows × 309 columns</p>\n",
       "</div>"
      ],
      "text/plain": [
       "           Time   Density  gasTemp      av  point         H            #H  \\\n",
       "0  1.000000e-07  100100.0     10.0  11.653      1  0.000002  3.810610e-13   \n",
       "1  1.000000e-06  100100.0     10.0  11.653      1  0.000002  3.810610e-13   \n",
       "2  1.000000e-05  100100.0     10.0  11.653      1  0.000002  3.810630e-13   \n",
       "3  1.000000e-04  100100.0     10.0  11.653      1  0.000002  3.810830e-13   \n",
       "4  1.000000e-03  100100.0     10.0  11.653      1  0.000002  3.812300e-13   \n",
       "\n",
       "             H+            @H       H2  ...           HS2          HS2+  \\\n",
       "0  3.038960e-10  8.488980e-09  0.40273  ...  2.944020e-13  5.069250e-16   \n",
       "1  3.038960e-10  8.488980e-09  0.40273  ...  2.944020e-13  5.069250e-16   \n",
       "2  3.038960e-10  8.488980e-09  0.40273  ...  2.944020e-13  5.069250e-16   \n",
       "3  3.038960e-10  8.488980e-09  0.40273  ...  2.944020e-13  5.069250e-16   \n",
       "4  3.038960e-10  8.488980e-09  0.40273  ...  2.944020e-13  5.069250e-16   \n",
       "\n",
       "          HSO2+         H2S2+          H2S2         #H2S2         @H2S2  \\\n",
       "0  3.635730e-14  1.936960e-16  2.345410e-15  3.350170e-17  7.095480e-12   \n",
       "1  3.635730e-14  1.936960e-16  2.345410e-15  3.350170e-17  7.095480e-12   \n",
       "2  3.635730e-14  1.936960e-16  2.345410e-15  3.350170e-17  7.095480e-12   \n",
       "3  3.635730e-14  1.936960e-16  2.345410e-15  3.350170e-17  7.095480e-12   \n",
       "4  3.635730e-14  1.936960e-16  2.345410e-15  3.350150e-17  7.095480e-12   \n",
       "\n",
       "       BULK   SURFACE            E-  \n",
       "0  0.097516  0.000005  6.090770e-08  \n",
       "1  0.097516  0.000005  6.090770e-08  \n",
       "2  0.097516  0.000005  6.090770e-08  \n",
       "3  0.097516  0.000005  6.090770e-08  \n",
       "4  0.097516  0.000005  6.090770e-08  \n",
       "\n",
       "[5 rows x 309 columns]"
      ]
     },
     "execution_count": 7,
     "metadata": {},
     "output_type": "execute_result"
    }
   ],
   "source": [
    "phase2_df.head()"
   ]
  },
  {
   "cell_type": "code",
   "execution_count": null,
   "metadata": {},
   "outputs": [],
   "source": []
  },
  {
   "cell_type": "code",
   "execution_count": 11,
   "metadata": {},
   "outputs": [
    {
     "name": "stdout",
     "output_type": "stream",
     "text": [
      "N\n",
      "H\n",
      "3\n"
     ]
    },
    {
     "ename": "KeyError",
     "evalue": "'3'",
     "output_type": "error",
     "traceback": [
      "\u001b[0;31m---------------------------------------------------------------------------\u001b[0m",
      "\u001b[0;31mKeyError\u001b[0m                                  Traceback (most recent call last)",
      "\u001b[0;32m~/.local/lib/python3.7/site-packages/pandas/core/indexes/base.py\u001b[0m in \u001b[0;36mget_loc\u001b[0;34m(self, key, method, tolerance)\u001b[0m\n\u001b[1;32m   2888\u001b[0m             \u001b[0;32mtry\u001b[0m\u001b[0;34m:\u001b[0m\u001b[0;34m\u001b[0m\u001b[0;34m\u001b[0m\u001b[0m\n\u001b[0;32m-> 2889\u001b[0;31m                 \u001b[0;32mreturn\u001b[0m \u001b[0mself\u001b[0m\u001b[0;34m.\u001b[0m\u001b[0m_engine\u001b[0m\u001b[0;34m.\u001b[0m\u001b[0mget_loc\u001b[0m\u001b[0;34m(\u001b[0m\u001b[0mcasted_key\u001b[0m\u001b[0;34m)\u001b[0m\u001b[0;34m\u001b[0m\u001b[0;34m\u001b[0m\u001b[0m\n\u001b[0m\u001b[1;32m   2890\u001b[0m             \u001b[0;32mexcept\u001b[0m \u001b[0mKeyError\u001b[0m \u001b[0;32mas\u001b[0m \u001b[0merr\u001b[0m\u001b[0;34m:\u001b[0m\u001b[0;34m\u001b[0m\u001b[0;34m\u001b[0m\u001b[0m\n",
      "\u001b[0;32mpandas/_libs/index.pyx\u001b[0m in \u001b[0;36mpandas._libs.index.IndexEngine.get_loc\u001b[0;34m()\u001b[0m\n",
      "\u001b[0;32mpandas/_libs/index.pyx\u001b[0m in \u001b[0;36mpandas._libs.index.IndexEngine.get_loc\u001b[0;34m()\u001b[0m\n",
      "\u001b[0;32mpandas/_libs/hashtable_class_helper.pxi\u001b[0m in \u001b[0;36mpandas._libs.hashtable.PyObjectHashTable.get_item\u001b[0;34m()\u001b[0m\n",
      "\u001b[0;32mpandas/_libs/hashtable_class_helper.pxi\u001b[0m in \u001b[0;36mpandas._libs.hashtable.PyObjectHashTable.get_item\u001b[0;34m()\u001b[0m\n",
      "\u001b[0;31mKeyError\u001b[0m: '3'",
      "\nThe above exception was the direct cause of the following exception:\n",
      "\u001b[0;31mKeyError\u001b[0m                                  Traceback (most recent call last)",
      "\u001b[0;32m<ipython-input-11-60131c1a3779>\u001b[0m in \u001b[0;36m<module>\u001b[0;34m\u001b[0m\n\u001b[1;32m      1\u001b[0m \u001b[0mfig\u001b[0m\u001b[0;34m,\u001b[0m\u001b[0;34m[\u001b[0m\u001b[0max\u001b[0m\u001b[0;34m,\u001b[0m\u001b[0max2\u001b[0m\u001b[0;34m]\u001b[0m\u001b[0;34m=\u001b[0m\u001b[0mplt\u001b[0m\u001b[0;34m.\u001b[0m\u001b[0msubplots\u001b[0m\u001b[0;34m(\u001b[0m\u001b[0;36m1\u001b[0m\u001b[0;34m,\u001b[0m\u001b[0;36m2\u001b[0m\u001b[0;34m,\u001b[0m\u001b[0mfigsize\u001b[0m\u001b[0;34m=\u001b[0m\u001b[0;34m(\u001b[0m\u001b[0;36m16\u001b[0m\u001b[0;34m,\u001b[0m\u001b[0;36m9\u001b[0m\u001b[0;34m)\u001b[0m\u001b[0;34m)\u001b[0m\u001b[0;34m\u001b[0m\u001b[0;34m\u001b[0m\u001b[0m\n\u001b[0;32m----> 2\u001b[0;31m \u001b[0max\u001b[0m\u001b[0;34m=\u001b[0m\u001b[0muclchem\u001b[0m\u001b[0;34m.\u001b[0m\u001b[0mplot_species\u001b[0m\u001b[0;34m(\u001b[0m\u001b[0max\u001b[0m\u001b[0;34m,\u001b[0m\u001b[0mphase2_df\u001b[0m\u001b[0;34m,\u001b[0m\u001b[0mspecies\u001b[0m\u001b[0;34m)\u001b[0m\u001b[0;34m\u001b[0m\u001b[0;34m\u001b[0m\u001b[0m\n\u001b[0m\u001b[1;32m      3\u001b[0m \u001b[0msettings\u001b[0m\u001b[0;34m=\u001b[0m\u001b[0max\u001b[0m\u001b[0;34m.\u001b[0m\u001b[0mset\u001b[0m\u001b[0;34m(\u001b[0m\u001b[0myscale\u001b[0m\u001b[0;34m=\u001b[0m\u001b[0;34m\"log\"\u001b[0m\u001b[0;34m,\u001b[0m\u001b[0mxscale\u001b[0m\u001b[0;34m=\u001b[0m\u001b[0;34m\"log\"\u001b[0m\u001b[0;34m,\u001b[0m\u001b[0mxlabel\u001b[0m\u001b[0;34m=\u001b[0m\u001b[0;34m\"Time / years\"\u001b[0m\u001b[0;34m,\u001b[0m \u001b[0mylabel\u001b[0m\u001b[0;34m=\u001b[0m\u001b[0;34m\"Fractional Abundance\"\u001b[0m\u001b[0;34m)\u001b[0m\u001b[0;34m\u001b[0m\u001b[0;34m\u001b[0m\u001b[0m\n\u001b[1;32m      4\u001b[0m \u001b[0;34m\u001b[0m\u001b[0m\n\u001b[1;32m      5\u001b[0m \u001b[0max2\u001b[0m\u001b[0;34m.\u001b[0m\u001b[0mplot\u001b[0m\u001b[0;34m(\u001b[0m\u001b[0mphase2_df\u001b[0m\u001b[0;34m[\u001b[0m\u001b[0;34m\"Time\"\u001b[0m\u001b[0;34m]\u001b[0m\u001b[0;34m,\u001b[0m\u001b[0mphase2_df\u001b[0m\u001b[0;34m[\u001b[0m\u001b[0;34m\"Density\"\u001b[0m\u001b[0;34m]\u001b[0m\u001b[0;34m,\u001b[0m\u001b[0mcolor\u001b[0m\u001b[0;34m=\u001b[0m\u001b[0;34m\"black\"\u001b[0m\u001b[0;34m)\u001b[0m\u001b[0;34m\u001b[0m\u001b[0;34m\u001b[0m\u001b[0m\n",
      "\u001b[0;32m~/Documents/zupcx4/UCLCHEMS/UCLCHEM/Python/uclchem/__init__.py\u001b[0m in \u001b[0;36mplot_species\u001b[0;34m(ax, df, species)\u001b[0m\n\u001b[1;32m    106\u001b[0m                                 \u001b[0mabundances\u001b[0m\u001b[0;34m=\u001b[0m\u001b[0mabundances\u001b[0m\u001b[0;34m+\u001b[0m\u001b[0mdf\u001b[0m\u001b[0;34m[\u001b[0m\u001b[0mspecName\u001b[0m\u001b[0;34m.\u001b[0m\u001b[0mreplace\u001b[0m\u001b[0;34m(\u001b[0m\u001b[0;34m\"$\"\u001b[0m\u001b[0;34m,\u001b[0m\u001b[0;34m\"@\"\u001b[0m\u001b[0;34m)\u001b[0m\u001b[0;34m]\u001b[0m\u001b[0;34m\u001b[0m\u001b[0;34m\u001b[0m\u001b[0m\n\u001b[1;32m    107\u001b[0m                 \u001b[0;32melse\u001b[0m\u001b[0;34m:\u001b[0m\u001b[0;34m\u001b[0m\u001b[0;34m\u001b[0m\u001b[0m\n\u001b[0;32m--> 108\u001b[0;31m                         \u001b[0mabundances\u001b[0m\u001b[0;34m=\u001b[0m\u001b[0mdf\u001b[0m\u001b[0;34m[\u001b[0m\u001b[0mspecName\u001b[0m\u001b[0;34m]\u001b[0m\u001b[0;34m\u001b[0m\u001b[0;34m\u001b[0m\u001b[0m\n\u001b[0m\u001b[1;32m    109\u001b[0m \t\tax.plot(df[\"Time\"]\n\u001b[1;32m    110\u001b[0m \t\t\t,abundances,label=specName,lw=2)\n",
      "\u001b[0;32m~/.local/lib/python3.7/site-packages/pandas/core/frame.py\u001b[0m in \u001b[0;36m__getitem__\u001b[0;34m(self, key)\u001b[0m\n\u001b[1;32m   2897\u001b[0m             \u001b[0;32mif\u001b[0m \u001b[0mself\u001b[0m\u001b[0;34m.\u001b[0m\u001b[0mcolumns\u001b[0m\u001b[0;34m.\u001b[0m\u001b[0mnlevels\u001b[0m \u001b[0;34m>\u001b[0m \u001b[0;36m1\u001b[0m\u001b[0;34m:\u001b[0m\u001b[0;34m\u001b[0m\u001b[0;34m\u001b[0m\u001b[0m\n\u001b[1;32m   2898\u001b[0m                 \u001b[0;32mreturn\u001b[0m \u001b[0mself\u001b[0m\u001b[0;34m.\u001b[0m\u001b[0m_getitem_multilevel\u001b[0m\u001b[0;34m(\u001b[0m\u001b[0mkey\u001b[0m\u001b[0;34m)\u001b[0m\u001b[0;34m\u001b[0m\u001b[0;34m\u001b[0m\u001b[0m\n\u001b[0;32m-> 2899\u001b[0;31m             \u001b[0mindexer\u001b[0m \u001b[0;34m=\u001b[0m \u001b[0mself\u001b[0m\u001b[0;34m.\u001b[0m\u001b[0mcolumns\u001b[0m\u001b[0;34m.\u001b[0m\u001b[0mget_loc\u001b[0m\u001b[0;34m(\u001b[0m\u001b[0mkey\u001b[0m\u001b[0;34m)\u001b[0m\u001b[0;34m\u001b[0m\u001b[0;34m\u001b[0m\u001b[0m\n\u001b[0m\u001b[1;32m   2900\u001b[0m             \u001b[0;32mif\u001b[0m \u001b[0mis_integer\u001b[0m\u001b[0;34m(\u001b[0m\u001b[0mindexer\u001b[0m\u001b[0;34m)\u001b[0m\u001b[0;34m:\u001b[0m\u001b[0;34m\u001b[0m\u001b[0;34m\u001b[0m\u001b[0m\n\u001b[1;32m   2901\u001b[0m                 \u001b[0mindexer\u001b[0m \u001b[0;34m=\u001b[0m \u001b[0;34m[\u001b[0m\u001b[0mindexer\u001b[0m\u001b[0;34m]\u001b[0m\u001b[0;34m\u001b[0m\u001b[0;34m\u001b[0m\u001b[0m\n",
      "\u001b[0;32m~/.local/lib/python3.7/site-packages/pandas/core/indexes/base.py\u001b[0m in \u001b[0;36mget_loc\u001b[0;34m(self, key, method, tolerance)\u001b[0m\n\u001b[1;32m   2889\u001b[0m                 \u001b[0;32mreturn\u001b[0m \u001b[0mself\u001b[0m\u001b[0;34m.\u001b[0m\u001b[0m_engine\u001b[0m\u001b[0;34m.\u001b[0m\u001b[0mget_loc\u001b[0m\u001b[0;34m(\u001b[0m\u001b[0mcasted_key\u001b[0m\u001b[0;34m)\u001b[0m\u001b[0;34m\u001b[0m\u001b[0;34m\u001b[0m\u001b[0m\n\u001b[1;32m   2890\u001b[0m             \u001b[0;32mexcept\u001b[0m \u001b[0mKeyError\u001b[0m \u001b[0;32mas\u001b[0m \u001b[0merr\u001b[0m\u001b[0;34m:\u001b[0m\u001b[0;34m\u001b[0m\u001b[0;34m\u001b[0m\u001b[0m\n\u001b[0;32m-> 2891\u001b[0;31m                 \u001b[0;32mraise\u001b[0m \u001b[0mKeyError\u001b[0m\u001b[0;34m(\u001b[0m\u001b[0mkey\u001b[0m\u001b[0;34m)\u001b[0m \u001b[0;32mfrom\u001b[0m \u001b[0merr\u001b[0m\u001b[0;34m\u001b[0m\u001b[0;34m\u001b[0m\u001b[0m\n\u001b[0m\u001b[1;32m   2892\u001b[0m \u001b[0;34m\u001b[0m\u001b[0m\n\u001b[1;32m   2893\u001b[0m         \u001b[0;32mif\u001b[0m \u001b[0mtolerance\u001b[0m \u001b[0;32mis\u001b[0m \u001b[0;32mnot\u001b[0m \u001b[0;32mNone\u001b[0m\u001b[0;34m:\u001b[0m\u001b[0;34m\u001b[0m\u001b[0;34m\u001b[0m\u001b[0m\n",
      "\u001b[0;31mKeyError\u001b[0m: '3'"
     ]
    },
    {
     "data": {
      "image/png": "[encoded data removed]",
      "text/plain": [
       "<Figure size 1152x648 with 2 Axes>"
      ]
     },
     "metadata": {
      "needs_background": "light"
     },
     "output_type": "display_data"
    }
   ],
   "source": [
    "fig,[ax,ax2]=plt.subplots(1,2,figsize=(16,9))\n",
    "ax=uclchem.plot_species(ax,phase2_df,species)\n",
    "settings=ax.set(yscale=\"log\",xscale=\"log\",xlabel=\"Time / years\", ylabel=\"Fractional Abundance\")\n",
    "\n",
    "ax2.plot(phase2_df[\"Time\"],phase2_df[\"Density\"],color=\"black\")\n",
    "ax3=ax2.twinx()\n",
    "ax3.plot(phase2_df[\"Time\"],phase2_df[\"gasTemp\"],color=\"red\")\n",
    "ax2.set(xlabel=\"Time / year\",ylabel=\"Density\")\n",
    "ax3.set(ylabel=\"Temperature\",facecolor=\"red\")\n",
    "ax3.tick_params(axis='y', colors='red')"
   ]
  },
  {
   "cell_type": "code",
   "execution_count": null,
   "metadata": {},
   "outputs": [],
   "source": []
  }
 ],
 "metadata": {
  "kernelspec": {
   "display_name": "Python 3",
   "language": "python",
   "name": "python3"
  },
  "language_info": {
   "codemirror_mode": {
    "name": "ipython",
    "version": 3
   },
   "file_extension": ".py",
   "mimetype": "text/x-python",
   "name": "python",
   "nbconvert_exporter": "python",
   "pygments_lexer": "ipython3",
   "version": "3.7.6"
  }
 },
 "nbformat": 4,
 "nbformat_minor": 4
}
