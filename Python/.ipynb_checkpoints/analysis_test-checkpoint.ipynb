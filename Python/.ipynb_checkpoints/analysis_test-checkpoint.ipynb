{
 "cells": [
  {
   "cell_type": "code",
   "execution_count": 11,
   "metadata": {},
   "outputs": [],
   "source": [
    "import sys\n",
    "sys.path.insert(0,\"../\")\n",
    "import uclchemwrap\n",
    "import numpy as np\n",
    "################################################\n",
    "#User Inputs Go Here\n",
    "################################################\n",
    "\n",
    "speciesName=\"CO\"\n",
    "result_file=\"../examples/test-output/phase1-full.dat\"\n",
    "reaction_file=\"../src/reactions.csv\"\n",
    "species_file=\"../src/species.csv\"\n"
   ]
  },
  {
   "cell_type": "code",
   "execution_count": 24,
   "metadata": {},
   "outputs": [],
   "source": [
    "result_df=uclchemwrap.read_output_file(result_file)\n",
    "species,masses=np.loadtxt(species_file,usecols=[0,1],dtype=str,skiprows=1,unpack=True,delimiter=',',comments=\"%\")\n",
    "reactions=np.loadtxt(reaction_file,dtype=str,skiprows=0,delimiter=',',usecols=[0,1,2,3,4,5,6],comments=\"%\")\n",
    "\n",
    "\n",
    "fortran_reac_indxs=[i+1 for i,reaction in enumerate(reactions) if speciesName in reaction]\n",
    "reac_indxs=[i for i,reaction in enumerate(reactions) if speciesName in reaction]\n"
   ]
  },
  {
   "cell_type": "code",
   "execution_count": 25,
   "metadata": {},
   "outputs": [],
   "source": [
    "row=result_df.iloc[10]"
   ]
  },
  {
   "cell_type": "code",
   "execution_count": 26,
   "metadata": {},
   "outputs": [],
   "source": [
    "param_dict=uclchemwrap.param_dict_from_output(row)\n"
   ]
  },
  {
   "cell_type": "code",
   "execution_count": 27,
   "metadata": {},
   "outputs": [
    {
     "data": {
      "text/plain": [
       "{'initialDens': 100.1,\n",
       " 'initialTemp': 10.0,\n",
       " 'zeta': 1.0,\n",
       " 'radfield': 1.0,\n",
       " 'baseAv': 0.0,\n",
       " 'rout': 3.2123076923076923e+19}"
      ]
     },
     "execution_count": 27,
     "metadata": {},
     "output_type": "execute_result"
    }
   ],
   "source": [
    "param_dict"
   ]
  },
  {
   "cell_type": "code",
   "execution_count": 23,
   "metadata": {},
   "outputs": [
    {
     "ename": "NameError",
     "evalue": "name 'reacIndxs' is not defined",
     "output_type": "error",
     "traceback": [
      "\u001b[0;31m---------------------------------------------------------------------------\u001b[0m",
      "\u001b[0;31mNameError\u001b[0m                                 Traceback (most recent call last)",
      "\u001b[0;32m<ipython-input-23-e54f84418857>\u001b[0m in \u001b[0;36m<module>\u001b[0;34m\u001b[0m\n\u001b[1;32m      5\u001b[0m         rates,reactions[np.asarray(species_reacs)-1,:],species,speciesName,row)\n\u001b[1;32m      6\u001b[0m \u001b[0;34m\u001b[0m\u001b[0m\n\u001b[0;32m----> 7\u001b[0;31m         \u001b[0mA\u001b[0m\u001b[0;34m=\u001b[0m\u001b[0mzip\u001b[0m\u001b[0;34m(\u001b[0m\u001b[0mchanges\u001b[0m\u001b[0;34m,\u001b[0m\u001b[0mreacIndxs\u001b[0m\u001b[0;34m)\u001b[0m\u001b[0;34m\u001b[0m\u001b[0;34m\u001b[0m\u001b[0m\n\u001b[0m\u001b[1;32m      8\u001b[0m         \u001b[0mA\u001b[0m\u001b[0;34m=\u001b[0m\u001b[0msorted\u001b[0m\u001b[0;34m(\u001b[0m\u001b[0mA\u001b[0m\u001b[0;34m)\u001b[0m\u001b[0;34m\u001b[0m\u001b[0;34m\u001b[0m\u001b[0m\n\u001b[1;32m      9\u001b[0m         \u001b[0mchanges\u001b[0m\u001b[0;34m,\u001b[0m\u001b[0mreacIndxs\u001b[0m\u001b[0;34m=\u001b[0m\u001b[0mzip\u001b[0m\u001b[0;34m(\u001b[0m\u001b[0;34m*\u001b[0m\u001b[0mA\u001b[0m\u001b[0;34m)\u001b[0m\u001b[0;34m\u001b[0m\u001b[0;34m\u001b[0m\u001b[0m\n",
      "\u001b[0;31mNameError\u001b[0m: name 'reacIndxs' is not defined"
     ]
    }
   ],
   "source": [
    "for i,row in result_df.iterrows():\n",
    "\tparam_dict=uclchemwrap.param_dict_from_output(row)\n",
    "\trates=uclchemwrap.get_species_rates(param_dict,row[species],fortran_reac_indxs)\n",
    "\tchanges=uclchemwrap.get_rates_of_change(\n",
    "        rates,reactions[np.asarray(species_reacs)-1,:],species,speciesName,row)\n",
    "\n",
    "\tA=zip(changes,reacIndxs)\n",
    "\tA=sorted(A)\n",
    "\tchanges,reacIndxs=zip(*A)\n",
    "\tchanges=np.asarray(changes)\n",
    "\n",
    "\ttotalDestruct=sum(changes[np.where(changes<0)])\n",
    "\tdestructions.append(-totalDestruct)\n",
    "\ttotalProd=sum(changes[np.where(changes>0)])\n",
    "\tformations.append(totalProd)\n",
    "\n",
    "\ttotalChange=sum(changes)\n",
    "\tmostForms=[]\n",
    "\tform=0.0\n",
    "\ti=-1\n",
    "\twhile form < 0.99*totalProd:\n",
    "\t\tmostForms.append(reacIndxs[i])\n",
    "\t\tform+=changes[i]\n",
    "\t\ti-=1\n",
    "\n",
    "\tmostDestructs=[]\t\n",
    "\tj=0\n",
    "\tdestruct=0.0\n",
    "\twhile abs(destruct) < 0.99*abs(totalDestruct):\n",
    "\t\tmostDestructs.append(reacIndxs[j])\n",
    "\t\tdestruct+=changes[j]\n",
    "\t\tj+=1\n",
    "\n",
    "\tif set(oldMostDestructs)!=set(mostDestructs) or set(oldMostForms) !=set(mostForms):\n",
    "\t\toldMostDestructs=mostDestructs[:]\n",
    "\t\toldMostForms=mostForms[:]\n",
    "\t\tprint(\"\\n***************************\\nNew Important Reactions At: {0:.2e} years\\n\".format(row[\"Time\"]))\n",
    "\t\tprint(\"Formation = {0:.2e} from:\".format(totalProd))\n",
    "\t\tfor k in range(-1,i,-1):\n",
    "\t\t\toutString=\"{x[0]} + {x[1]} -> {x[3]} + {x[4]}\".format(x=network[reacIndxs[k]])\n",
    "\t\t\toutString+=\": {0:.2f}%\".format(float(changes[k]/totalProd)*100)\n",
    "\t\t\tprint(outString)\n",
    "\n",
    "\t\tprint(\"\\nDestruction = {0:.2e} from:\".format(totalDestruct))\n",
    "\t\tfor k in range(0,j):\n",
    "\t\t\toutString=\"{x[0]} + {x[1]} -> {x[3]} + {x[4]}\".format(x=network[reacIndxs[k]])\n",
    "\t\t\toutString+=\": {0:.2f}%\".format(float(changes[k]/totalDestruct)*100)\n",
    "\t\t\tprint(outString)\n",
    "\t\tplotTimes.append(row[\"Time\"])\n",
    "\t\toldTotalChange=totalChange\n",
    "\n",
    "fig,ax=plt.subplots()\n",
    "ax.plot(model_output[\"Time\"],model_output[speciesName],color=\"black\")\n",
    "ax.plot(model_output[\"Time\"],destructions,color=\"red\")\n",
    "ax.plot(model_output[\"Time\"],formations,color=\"green\")\n",
    "#for time in plotTimes:\n",
    "\t#ax.axvline(time)\n",
    "ax.set_yscale('log')\n",
    "ax.set_ylim(1e-35,)\n",
    "plt.show()\n"
   ]
  },
  {
   "cell_type": "code",
   "execution_count": null,
   "metadata": {},
   "outputs": [],
   "source": []
  },
  {
   "cell_type": "code",
   "execution_count": null,
   "metadata": {},
   "outputs": [],
   "source": []
  },
  {
   "cell_type": "code",
   "execution_count": null,
   "metadata": {},
   "outputs": [],
   "source": []
  },
  {
   "cell_type": "code",
   "execution_count": null,
   "metadata": {},
   "outputs": [],
   "source": []
  }
 ],
 "metadata": {
  "kernelspec": {
   "display_name": "Python 3",
   "language": "python",
   "name": "python3"
  },
  "language_info": {
   "codemirror_mode": {
    "name": "ipython",
    "version": 3
   },
   "file_extension": ".py",
   "mimetype": "text/x-python",
   "name": "python",
   "nbconvert_exporter": "python",
   "pygments_lexer": "ipython3",
   "version": "3.7.6"
  }
 },
 "nbformat": 4,
 "nbformat_minor": 4
}
